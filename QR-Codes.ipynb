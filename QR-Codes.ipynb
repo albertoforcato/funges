{
 "cells": [
  {
   "cell_type": "code",
   "execution_count": 1,
   "metadata": {},
   "outputs": [
    {
     "name": "stdout",
     "output_type": "stream",
     "text": [
      "QR codes saved as 'bitcoin_qr.png' and 'iota_qr.png'\n"
     ]
    }
   ],
   "source": [
    "import qrcode\n",
    "\n",
    "# --- Bitcoin QR ---\n",
    "btc_address = \"1BoatSLRHtKNngkdXEeobR76b53LETtpyT\"\n",
    "btc_amount = 0.001\n",
    "btc_uri = f\"bitcoin:{btc_address}?amount={btc_amount}&label=Donation&message=Thanks!\"\n",
    "btc_img = qrcode.make(btc_uri)\n",
    "btc_img.save(\"bitcoin_qr.png\")\n",
    "\n",
    "# --- IOTA QR ---\n",
    "iota_address = \"atoi1qz6j0vx42tsuk5g3y4youraddress\"\n",
    "iota_amount = 1000000  # IOTA units (1 MIOTA)\n",
    "iota_uri = f\"iota:{iota_address}?amount={iota_amount}\"\n",
    "iota_img = qrcode.make(iota_uri)\n",
    "iota_img.save(\"iota_qr.png\")\n",
    "\n",
    "print(\"QR codes saved as 'bitcoin_qr.png' and 'iota_qr.png'\")\n"
   ]
  }
 ],
 "metadata": {
  "kernelspec": {
   "display_name": "Python 3",
   "language": "python",
   "name": "python3"
  },
  "language_info": {
   "codemirror_mode": {
    "name": "ipython",
    "version": 3
   },
   "file_extension": ".py",
   "mimetype": "text/x-python",
   "name": "python",
   "nbconvert_exporter": "python",
   "pygments_lexer": "ipython3",
   "version": "3.12.9"
  }
 },
 "nbformat": 4,
 "nbformat_minor": 2
}
