{
 "cells": [
  {
   "cell_type": "code",
   "execution_count": 1,
   "metadata": {},
   "outputs": [
    {
     "name": "stdout",
     "output_type": "stream",
     "text": [
      "QR codes saved as 'bitcoin_qr.png', 'iota_qr.png', and 'ethereum_qr.png'\n"
     ]
    }
   ],
   "source": [
    "import qrcode\n",
    "\n",
    "# --- Bitcoin QR ---\n",
    "btc_address = \"bc1q0j9yf0w4a5zp45u4lsk0xjq6gfefxcuhsvy2p0\"\n",
    "btc_amount = 0.001\n",
    "btc_uri = f\"bitcoin:{btc_address}?amount={btc_amount}&label=Donation&message=Thanks!\"\n",
    "btc_img = qrcode.make(btc_uri)\n",
    "btc_img.save(\"bitcoin_qr.png\")\n",
    "\n",
    "# --- IOTA QR ---\n",
    "iota_address = \"iota1qp24tfmlscaj9u34k64ma2hh7lhgj93srmtsysqmh6a85lm4dn02vdg6t67\"\n",
    "iota_amount = 1000000  # IOTA units (1 MIOTA)\n",
    "iota_uri = f\"iota:{iota_address}?amount={iota_amount}\"\n",
    "iota_img = qrcode.make(iota_uri)\n",
    "iota_img.save(\"iota_qr.png\")\n",
    "\n",
    "# --- Ethereum QR ---\n",
    "eth_address = \"0xa8134D63F689b08ab227EE935bB43ba5526f9D4C\"\n",
    "eth_amount_eth = 0.01\n",
    "eth_amount_wei = int(eth_amount_eth * 1e18)\n",
    "eth_uri = f\"ethereum:{eth_address}?value={eth_amount_wei}\"\n",
    "eth_img = qrcode.make(eth_uri)\n",
    "eth_img.save(\"ethereum_qr.png\")\n",
    "\n",
    "print(\"QR codes saved as 'bitcoin_qr.png', 'iota_qr.png', and 'ethereum_qr.png'\")\n"
   ]
  }
 ],
 "metadata": {
  "kernelspec": {
   "display_name": "Python 3",
   "language": "python",
   "name": "python3"
  },
  "language_info": {
   "codemirror_mode": {
    "name": "ipython",
    "version": 3
   },
   "file_extension": ".py",
   "mimetype": "text/x-python",
   "name": "python",
   "nbconvert_exporter": "python",
   "pygments_lexer": "ipython3",
   "version": "3.12.9"
  }
 },
 "nbformat": 4,
 "nbformat_minor": 2
}
